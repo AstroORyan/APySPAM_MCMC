{
 "cells": [
  {
   "cell_type": "code",
   "execution_count": 1,
   "id": "3914b76c-de80-4bbe-8eb3-bdf30468f669",
   "metadata": {},
   "outputs": [],
   "source": [
    "import pandas as pd\n",
    "import numpy as np\n",
    "import matplotlib.pyplot as plt\n",
    "\n",
    "from astropy.coordinates import SkyCoord\n",
    "from astropy.cosmology import FlatLambdaCDM\n",
    "import astropy.units as u\n",
    "\n",
    "import glob\n",
    "import os"
   ]
  },
  {
   "cell_type": "code",
   "execution_count": 2,
   "id": "0db53e04-9fb2-410a-b176-7d640e132a47",
   "metadata": {},
   "outputs": [],
   "source": [
    "work_dir = 'C:/Users/oryan/Documents/PySPAM_Original_Python_MCMC/APySPAM_MCMC'"
   ]
  },
  {
   "cell_type": "code",
   "execution_count": 3,
   "id": "9ad6b88c-6c93-4890-85b6-3c2c4335c0ee",
   "metadata": {},
   "outputs": [],
   "source": [
    "df = pd.read_csv(f'{work_dir}/Redshifts/Redshifts.csv', index_col = 0)"
   ]
  },
  {
   "cell_type": "code",
   "execution_count": 4,
   "id": "39514978-fbeb-4b7d-b6a2-ae9c31459d6d",
   "metadata": {},
   "outputs": [],
   "source": [
    "z = df.query('Names == \"UGC11751\"').Redshift.iloc[0]\n",
    "block_reduce = df.query('Names == \"UGC11751\"').block_reduce.iloc[0]"
   ]
  },
  {
   "cell_type": "code",
   "execution_count": 5,
   "id": "0ee062e2-fe16-4ac1-9d45-a12546e135e8",
   "metadata": {},
   "outputs": [],
   "source": [
    "coords_df = pd.read_csv(f'{work_dir}/data/all_coords.csv', index_col = 0)"
   ]
  },
  {
   "cell_type": "markdown",
   "id": "707ef5de-db48-48bf-8b26-6e4b44b4892d",
   "metadata": {},
   "source": [
    "Going to investigate issue with Arp 240."
   ]
  },
  {
   "cell_type": "code",
   "execution_count": 6,
   "id": "c770f517-5978-4b66-9191-6ab23766845a",
   "metadata": {},
   "outputs": [
    {
     "data": {
      "text/html": [
       "<div>\n",
       "<style scoped>\n",
       "    .dataframe tbody tr th:only-of-type {\n",
       "        vertical-align: middle;\n",
       "    }\n",
       "\n",
       "    .dataframe tbody tr th {\n",
       "        vertical-align: top;\n",
       "    }\n",
       "\n",
       "    .dataframe thead th {\n",
       "        text-align: right;\n",
       "    }\n",
       "</style>\n",
       "<table border=\"1\" class=\"dataframe\">\n",
       "  <thead>\n",
       "    <tr style=\"text-align: right;\">\n",
       "      <th></th>\n",
       "      <th>block_reduce</th>\n",
       "      <th>Names</th>\n",
       "      <th>Redshift</th>\n",
       "      <th>neg</th>\n",
       "      <th>t</th>\n",
       "    </tr>\n",
       "  </thead>\n",
       "  <tbody>\n",
       "    <tr>\n",
       "      <th>5</th>\n",
       "      <td>8</td>\n",
       "      <td>UGC11751</td>\n",
       "      <td>0.02909</td>\n",
       "      <td>y</td>\n",
       "      <td>n</td>\n",
       "    </tr>\n",
       "    <tr>\n",
       "      <th>6</th>\n",
       "      <td>32</td>\n",
       "      <td>Arp104</td>\n",
       "      <td>0.01082</td>\n",
       "      <td>y</td>\n",
       "      <td>n</td>\n",
       "    </tr>\n",
       "    <tr>\n",
       "      <th>7</th>\n",
       "      <td>2</td>\n",
       "      <td>Heart</td>\n",
       "      <td>0.04000</td>\n",
       "      <td>rereduce</td>\n",
       "      <td>rereduce</td>\n",
       "    </tr>\n",
       "    <tr>\n",
       "      <th>8</th>\n",
       "      <td>22</td>\n",
       "      <td>Arp285</td>\n",
       "      <td>0.00967</td>\n",
       "      <td>rereduce</td>\n",
       "      <td>rereduce</td>\n",
       "    </tr>\n",
       "    <tr>\n",
       "      <th>9</th>\n",
       "      <td>90</td>\n",
       "      <td>Arp214</td>\n",
       "      <td>0.00331</td>\n",
       "      <td>y</td>\n",
       "      <td>n</td>\n",
       "    </tr>\n",
       "  </tbody>\n",
       "</table>\n",
       "</div>"
      ],
      "text/plain": [
       "   block_reduce     Names  Redshift       neg         t\n",
       "5             8  UGC11751   0.02909         y         n\n",
       "6            32    Arp104   0.01082         y         n\n",
       "7             2     Heart   0.04000  rereduce  rereduce\n",
       "8            22    Arp285   0.00967  rereduce  rereduce\n",
       "9            90    Arp214   0.00331         y         n"
      ]
     },
     "execution_count": 6,
     "metadata": {},
     "output_type": "execute_result"
    }
   ],
   "source": [
    "df[5:10]"
   ]
  },
  {
   "cell_type": "code",
   "execution_count": 7,
   "id": "71256ae0-152c-4f19-a87a-2a1c5aac1047",
   "metadata": {},
   "outputs": [
    {
     "data": {
      "text/html": [
       "<div>\n",
       "<style scoped>\n",
       "    .dataframe tbody tr th:only-of-type {\n",
       "        vertical-align: middle;\n",
       "    }\n",
       "\n",
       "    .dataframe tbody tr th {\n",
       "        vertical-align: top;\n",
       "    }\n",
       "\n",
       "    .dataframe thead th {\n",
       "        text-align: right;\n",
       "    }\n",
       "</style>\n",
       "<table border=\"1\" class=\"dataframe\">\n",
       "  <thead>\n",
       "    <tr style=\"text-align: right;\">\n",
       "      <th></th>\n",
       "      <th>Prim_RA</th>\n",
       "      <th>Prim_DEC</th>\n",
       "      <th>Sec_RA</th>\n",
       "      <th>Sec_DEC</th>\n",
       "      <th>Names</th>\n",
       "    </tr>\n",
       "  </thead>\n",
       "  <tbody>\n",
       "    <tr>\n",
       "      <th>0</th>\n",
       "      <td>204.970333</td>\n",
       "      <td>0.839844</td>\n",
       "      <td>204.990208</td>\n",
       "      <td>0.830667</td>\n",
       "      <td>Arp240</td>\n",
       "    </tr>\n",
       "    <tr>\n",
       "      <th>1</th>\n",
       "      <td>30.957167</td>\n",
       "      <td>14.738644</td>\n",
       "      <td>30.937292</td>\n",
       "      <td>14.709056</td>\n",
       "      <td>Arp290</td>\n",
       "    </tr>\n",
       "    <tr>\n",
       "      <th>2</th>\n",
       "      <td>144.433333</td>\n",
       "      <td>2.760164</td>\n",
       "      <td>144.437875</td>\n",
       "      <td>2.746886</td>\n",
       "      <td>Arp142</td>\n",
       "    </tr>\n",
       "    <tr>\n",
       "      <th>3</th>\n",
       "      <td>32.352333</td>\n",
       "      <td>-10.136006</td>\n",
       "      <td>32.337292</td>\n",
       "      <td>-10.133158</td>\n",
       "      <td>Arp318</td>\n",
       "    </tr>\n",
       "    <tr>\n",
       "      <th>4</th>\n",
       "      <td>4.708583</td>\n",
       "      <td>-10.361625</td>\n",
       "      <td>4.711833</td>\n",
       "      <td>-10.376950</td>\n",
       "      <td>Arp256</td>\n",
       "    </tr>\n",
       "  </tbody>\n",
       "</table>\n",
       "</div>"
      ],
      "text/plain": [
       "      Prim_RA   Prim_DEC      Sec_RA    Sec_DEC   Names\n",
       "0  204.970333   0.839844  204.990208   0.830667  Arp240\n",
       "1   30.957167  14.738644   30.937292  14.709056  Arp290\n",
       "2  144.433333   2.760164  144.437875   2.746886  Arp142\n",
       "3   32.352333 -10.136006   32.337292 -10.133158  Arp318\n",
       "4    4.708583 -10.361625    4.711833 -10.376950  Arp256"
      ]
     },
     "execution_count": 7,
     "metadata": {},
     "output_type": "execute_result"
    }
   ],
   "source": [
    "coords_df[:5]"
   ]
  },
  {
   "cell_type": "code",
   "execution_count": 8,
   "id": "d16e7ed7-ded8-41e6-967f-e28fb893de5d",
   "metadata": {},
   "outputs": [],
   "source": [
    "row = coords_df.query('Names == \"UGC11751\"')\n",
    "prim_ra = row.Prim_RA.iloc[0]\n",
    "prim_dec = row.Prim_DEC.iloc[0]\n",
    "sec_ra = row.Sec_RA.iloc[0]\n",
    "sec_dec = row.Sec_DEC.iloc[0]"
   ]
  },
  {
   "cell_type": "code",
   "execution_count": 9,
   "id": "099c50c1-8f61-4fb9-bcca-d470d02c756d",
   "metadata": {},
   "outputs": [],
   "source": [
    "data = np.load(f'{work_dir}/All_Inputs/UGC11751.npy')"
   ]
  },
  {
   "cell_type": "code",
   "execution_count": 10,
   "id": "4fd33970-453f-46d1-9750-b41b29309ff5",
   "metadata": {},
   "outputs": [
    {
     "name": "stderr",
     "output_type": "stream",
     "text": [
      "C:\\Users\\oryan\\AppData\\Local\\Continuum\\anaconda3\\lib\\site-packages\\ipykernel_launcher.py:2: RuntimeWarning: invalid value encountered in log10\n",
      "  \n"
     ]
    },
    {
     "data": {
      "image/png": "[encoded data removed]",
      "text/plain": [
       "<Figure size 1200x800 with 1 Axes>"
      ]
     },
     "metadata": {},
     "output_type": "display_data"
    }
   ],
   "source": [
    "plt.figure(figsize=(12,8))\n",
    "plt.imshow(np.log10(data))\n",
    "plt.show()"
   ]
  },
  {
   "cell_type": "code",
   "execution_count": 11,
   "id": "52dc7be7-1353-46b2-8243-b2cbc3232f73",
   "metadata": {},
   "outputs": [],
   "source": [
    "prim_coords = SkyCoord(ra = prim_ra * u.deg, dec = prim_dec * u.deg, frame = 'fk5')\n",
    "sec_coords = SkyCoord(ra = sec_ra * u.deg, dec = sec_dec * u.deg, frame = 'fk5')"
   ]
  },
  {
   "cell_type": "code",
   "execution_count": 12,
   "id": "84a9abd8-7a09-47af-a0ae-9182afec8c00",
   "metadata": {},
   "outputs": [],
   "source": [
    "ddra, ddec = prim_coords.spherical_offsets_to(sec_coords)\n",
    "ddra_as = ddra.to(u.arcsec)\n",
    "ddec_as = ddec.to(u.arcsec)"
   ]
  },
  {
   "cell_type": "code",
   "execution_count": 13,
   "id": "6d5d0b80-4919-4a74-9326-0a03562f0915",
   "metadata": {},
   "outputs": [],
   "source": [
    "cosmo = FlatLambdaCDM(H0=67.8 * u.km / u.s / u.Mpc, Tcmb0=2.275 * u.K, Om0 = 0.308)\n",
    "\n",
    "conversion = cosmo.kpc_proper_per_arcmin(z)"
   ]
  },
  {
   "cell_type": "code",
   "execution_count": 14,
   "id": "5b11573e-f1d3-419c-b95f-5207fd547cfe",
   "metadata": {},
   "outputs": [],
   "source": [
    "phys_x = conversion * ddra_as\n",
    "phys_y = conversion * ddec_as\n",
    "\n",
    "sim_x = float(phys_x / (15 * u.kpc))\n",
    "sim_y = float(phys_y / (15 * u.kpc))"
   ]
  },
  {
   "cell_type": "code",
   "execution_count": 15,
   "id": "579aab42-1366-480a-99b9-1316e5dc661e",
   "metadata": {},
   "outputs": [],
   "source": [
    "pix_res = (block_reduce * 0.396 * u.arcsec)  * conversion.to(u.kpc / u.arcsec) / (15 * u.kpc)"
   ]
  },
  {
   "cell_type": "code",
   "execution_count": 16,
   "id": "250a4dd8-106d-4879-a3f0-33924ca97578",
   "metadata": {},
   "outputs": [
    {
     "data": {
      "text/latex": [
       "$0.12711726 \\; \\mathrm{}$"
      ],
      "text/plain": [
       "<Quantity 0.12711726>"
      ]
     },
     "execution_count": 16,
     "metadata": {},
     "output_type": "execute_result"
    }
   ],
   "source": [
    "pix_res"
   ]
  },
  {
   "cell_type": "code",
   "execution_count": 17,
   "id": "8ee9cf6e-1391-41da-b4d2-5a4ef559f8b4",
   "metadata": {},
   "outputs": [
    {
     "data": {
      "text/plain": [
       "-0.6400578368763322"
      ]
     },
     "execution_count": 17,
     "metadata": {},
     "output_type": "execute_result"
    }
   ],
   "source": [
    "sim_x "
   ]
  },
  {
   "cell_type": "code",
   "execution_count": 18,
   "id": "130ee63d-b725-4010-8afa-60d743b1d083",
   "metadata": {},
   "outputs": [],
   "source": [
    "if sim_x > 0:\n",
    "    pixel_x = int(np.round(sim_x / pix_res) + 25)\n",
    "elif sim_x < 0:\n",
    "    pixel_x = -int(np.round(sim_x / pix_res) - 25)\n",
    "else:\n",
    "    pixel_x = int(sim_x + 25)"
   ]
  },
  {
   "cell_type": "code",
   "execution_count": 19,
   "id": "d9f3a377-577c-4dbd-a191-f2f6a456a4bc",
   "metadata": {},
   "outputs": [],
   "source": [
    "if sim_y > 0:\n",
    "    pixel_y = int(np.round(sim_y / pix_res) + 25)  + 1\n",
    "elif sim_y < 0:\n",
    "    pixel_y = -int(np.round(sim_y / pix_res) - 25)  + 1\n",
    "else:\n",
    "    pixel_y = int(sim_y + 25)  + 1"
   ]
  },
  {
   "cell_type": "code",
   "execution_count": 20,
   "id": "92eb318d-943b-4a2a-aa97-ee6f5c1e5ee7",
   "metadata": {},
   "outputs": [
    {
     "data": {
      "text/plain": [
       "-0.6400578368763322"
      ]
     },
     "execution_count": 20,
     "metadata": {},
     "output_type": "execute_result"
    }
   ],
   "source": [
    "sim_x"
   ]
  },
  {
   "cell_type": "code",
   "execution_count": 21,
   "id": "ed3633fb-724f-49a6-8465-0c4d07cf92e1",
   "metadata": {},
   "outputs": [
    {
     "data": {
      "text/plain": [
       "-2.234150207028618"
      ]
     },
     "execution_count": 21,
     "metadata": {},
     "output_type": "execute_result"
    }
   ],
   "source": [
    "sim_y"
   ]
  },
  {
   "cell_type": "code",
   "execution_count": 24,
   "id": "6e011378-cd80-425e-9d64-bb4acec9bdc9",
   "metadata": {},
   "outputs": [
    {
     "name": "stderr",
     "output_type": "stream",
     "text": [
      "C:\\Users\\oryan\\AppData\\Local\\Continuum\\anaconda3\\lib\\site-packages\\ipykernel_launcher.py:2: RuntimeWarning: invalid value encountered in log10\n",
      "  \n"
     ]
    },
    {
     "data": {
      "image/png": "[encoded data removed]",
      "text/plain": [
       "<Figure size 1200x800 with 1 Axes>"
      ]
     },
     "metadata": {},
     "output_type": "display_data"
    }
   ],
   "source": [
    "plt.figure(figsize=(12,8))\n",
    "plt.imshow(np.log10(data))\n",
    "plt.scatter(25,25)\n",
    "plt.scatter(pixel_x, pixel_y, s = 20, color='r')\n",
    "plt.show()"
   ]
  },
  {
   "cell_type": "code",
   "execution_count": null,
   "id": "a411689d-156f-429a-a65c-1bd36f71b24b",
   "metadata": {},
   "outputs": [],
   "source": []
  }
 ],
 "metadata": {
  "kernelspec": {
   "display_name": "Python 3 (ipykernel)",
   "language": "python",
   "name": "python3"
  },
  "language_info": {
   "codemirror_mode": {
    "name": "ipython",
    "version": 3
   },
   "file_extension": ".py",
   "mimetype": "text/x-python",
   "name": "python",
   "nbconvert_exporter": "python",
   "pygments_lexer": "ipython3",
   "version": "3.7.13"
  }
 },
 "nbformat": 4,
 "nbformat_minor": 5
}
