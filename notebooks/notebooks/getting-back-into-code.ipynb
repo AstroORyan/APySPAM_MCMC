{
 "cells": [
  {
   "cell_type": "code",
   "execution_count": 1,
   "id": "0f797481-49e8-4e18-8ff7-b9dfa2946cda",
   "metadata": {},
   "outputs": [],
   "source": [
    "import matplotlib.pyplot as plt\n",
    "import numpy as np\n",
    "import pandas as pd\n",
    "\n",
    "from tqdm import tqdm\n",
    "\n",
    "from astropy.coordinates import SkyCoord\n",
    "import astropy.units as u\n",
    "from astropy.cosmology import FlatLambdaCDM"
   ]
  },
  {
   "cell_type": "markdown",
   "id": "5abe19dd-39ba-4662-a6e5-cb3207d3b457",
   "metadata": {},
   "source": [
    "### Arp 256"
   ]
  },
  {
   "cell_type": "code",
   "execution_count": 2,
   "id": "e589190f-e682-4d8e-969a-f7855156916f",
   "metadata": {},
   "outputs": [],
   "source": [
    "results_arr = np.load('C:/Users/oryan/Documents/PySPAM_Original_Python_MCMC/APySPAM_MCMC/sim_input/results.npy')\n",
    "observed_arr = np.load('C:/Users/oryan/Documents/PySPAM_Original_Python_MCMC/APySPAM_MCMC/All_Inputs/Arp256.npy')"
   ]
  },
  {
   "cell_type": "code",
   "execution_count": 3,
   "id": "62d73669-e465-4f19-8502-f8cde2ef3d23",
   "metadata": {},
   "outputs": [
    {
     "name": "stderr",
     "output_type": "stream",
     "text": [
      "C:\\Users\\oryan\\AppData\\Local\\Continuum\\anaconda3\\lib\\site-packages\\ipykernel_launcher.py:2: RuntimeWarning: invalid value encountered in log10\n",
      "  \n"
     ]
    },
    {
     "data": {
      "image/png": "[encoded data removed]",
      "text/plain": [
       "<Figure size 1200x1200 with 1 Axes>"
      ]
     },
     "metadata": {},
     "output_type": "display_data"
    }
   ],
   "source": [
    "plt.figure(figsize = (12,12))\n",
    "plt.imshow(np.log10(observed_arr) - 48.6)\n",
    "plt.show()"
   ]
  },
  {
   "cell_type": "code",
   "execution_count": 4,
   "id": "6a2010b6-10d6-486b-9b90-2a1333a99ee7",
   "metadata": {},
   "outputs": [],
   "source": [
    "coords_df = pd.read_csv('C:/Users/oryan/Documents/Observational_Dataset/data/all_coords.csv', index_col = 0)"
   ]
  },
  {
   "cell_type": "code",
   "execution_count": 5,
   "id": "936dca5a-c0bb-4ab2-b6a1-bfe04bb7ec3c",
   "metadata": {},
   "outputs": [],
   "source": [
    "arp256_coords = coords_df.query('Names == \" Arp256\"')"
   ]
  },
  {
   "cell_type": "code",
   "execution_count": 6,
   "id": "c3159677-4a4e-42df-b3ed-ae94fd3a9598",
   "metadata": {},
   "outputs": [
    {
     "data": {
      "text/html": [
       "<div>\n",
       "<style scoped>\n",
       "    .dataframe tbody tr th:only-of-type {\n",
       "        vertical-align: middle;\n",
       "    }\n",
       "\n",
       "    .dataframe tbody tr th {\n",
       "        vertical-align: top;\n",
       "    }\n",
       "\n",
       "    .dataframe thead th {\n",
       "        text-align: right;\n",
       "    }\n",
       "</style>\n",
       "<table border=\"1\" class=\"dataframe\">\n",
       "  <thead>\n",
       "    <tr style=\"text-align: right;\">\n",
       "      <th></th>\n",
       "      <th>Prim_RA</th>\n",
       "      <th>Prim_DEC</th>\n",
       "      <th>Names</th>\n",
       "      <th>Sec_RA</th>\n",
       "      <th>Sec_DEC</th>\n",
       "    </tr>\n",
       "  </thead>\n",
       "  <tbody>\n",
       "    <tr>\n",
       "      <th>4</th>\n",
       "      <td>4.708583</td>\n",
       "      <td>-10.361625</td>\n",
       "      <td>Arp256</td>\n",
       "      <td>4.711833</td>\n",
       "      <td>-10.37695</td>\n",
       "    </tr>\n",
       "  </tbody>\n",
       "</table>\n",
       "</div>"
      ],
      "text/plain": [
       "    Prim_RA   Prim_DEC    Names    Sec_RA   Sec_DEC\n",
       "4  4.708583 -10.361625   Arp256  4.711833 -10.37695"
      ]
     },
     "execution_count": 6,
     "metadata": {},
     "output_type": "execute_result"
    }
   ],
   "source": [
    "arp256_coords"
   ]
  },
  {
   "cell_type": "code",
   "execution_count": 7,
   "id": "c9183921-af14-4157-b4ac-891728ae71c1",
   "metadata": {},
   "outputs": [],
   "source": [
    "arp256_ob = (\n",
    "    arp256_coords\n",
    "    .assign(prim_coords = arp256_coords.apply(lambda row: SkyCoord(ra = row.Prim_RA  * u.deg, dec = row.Prim_DEC * u.deg, frame = 'fk5'), axis=1))\n",
    "    .assign(sec_coords = arp256_coords.apply(lambda row: SkyCoord(ra = row.Sec_RA  * u.deg, dec = row.Sec_DEC * u.deg, frame = 'fk5'), axis=1))    \n",
    ")"
   ]
  },
  {
   "cell_type": "code",
   "execution_count": 8,
   "id": "0557597b-7cb0-45d3-a0c5-08ae725c42fe",
   "metadata": {},
   "outputs": [],
   "source": [
    "dra, ddec = arp256_ob.sec_coords.iloc[0].spherical_offsets_to(arp256_ob.prim_coords.iloc[0])"
   ]
  },
  {
   "cell_type": "code",
   "execution_count": 9,
   "id": "45867d8c-9578-4af8-87d6-69aab7fc1343",
   "metadata": {},
   "outputs": [],
   "source": [
    "dra_m = dra.to(u.arcmin)"
   ]
  },
  {
   "cell_type": "code",
   "execution_count": 10,
   "id": "1e76e12a-ff92-417c-96d6-218777424420",
   "metadata": {},
   "outputs": [],
   "source": [
    "ddec_m = ddec.to(u.arcmin)"
   ]
  },
  {
   "cell_type": "code",
   "execution_count": 11,
   "id": "b332afaa-4c04-4642-b87f-1f607a18a424",
   "metadata": {},
   "outputs": [],
   "source": [
    "cosmo = FlatLambdaCDM(H0=67.8 * u.km / u.s / u.Mpc, Tcmb0=2.275 * u.K, Om0 = 0.308)"
   ]
  },
  {
   "cell_type": "code",
   "execution_count": 12,
   "id": "647259c2-1b4d-486c-bd7f-2b956417f673",
   "metadata": {},
   "outputs": [],
   "source": [
    "z = 0.0273"
   ]
  },
  {
   "cell_type": "code",
   "execution_count": 13,
   "id": "3ae26427-76bc-4662-8333-90fae11440f9",
   "metadata": {},
   "outputs": [],
   "source": [
    "conversion = cosmo.kpc_proper_per_arcmin(z)"
   ]
  },
  {
   "cell_type": "code",
   "execution_count": 14,
   "id": "4d652405-ec22-4dc6-823b-a0817fcebe26",
   "metadata": {},
   "outputs": [],
   "source": [
    "x = conversion * dra_m\n",
    "y = conversion * ddec_m"
   ]
  },
  {
   "cell_type": "code",
   "execution_count": 15,
   "id": "5d414799-39dd-440a-a88a-dc07adf9e7fd",
   "metadata": {},
   "outputs": [
    {
     "data": {
      "text/latex": [
       "$-6.5149856 \\; \\mathrm{kpc}$"
      ],
      "text/plain": [
       "<Quantity -6.51498563 kpc>"
      ]
     },
     "execution_count": 15,
     "metadata": {},
     "output_type": "execute_result"
    }
   ],
   "source": [
    "x"
   ]
  },
  {
   "cell_type": "code",
   "execution_count": 16,
   "id": "3c793f0e-cb3f-4951-b831-0b42363de60c",
   "metadata": {},
   "outputs": [
    {
     "data": {
      "text/latex": [
       "$31.229922 \\; \\mathrm{kpc}$"
      ],
      "text/plain": [
       "<Quantity 31.22992183 kpc>"
      ]
     },
     "execution_count": 16,
     "metadata": {},
     "output_type": "execute_result"
    }
   ],
   "source": [
    "y"
   ]
  },
  {
   "cell_type": "code",
   "execution_count": 17,
   "id": "b3e9e914-d935-4377-90bb-a23e5c078581",
   "metadata": {},
   "outputs": [],
   "source": [
    "sim_x = x / (15 * u.kpc)\n",
    "sim_y = y / (15 * u.kpc)"
   ]
  },
  {
   "cell_type": "code",
   "execution_count": 18,
   "id": "9ad0f6ae-2ccd-4837-8f25-bea71aef69ea",
   "metadata": {},
   "outputs": [
    {
     "data": {
      "text/latex": [
       "$-0.43433238 \\; \\mathrm{}$"
      ],
      "text/plain": [
       "<Quantity -0.43433238>"
      ]
     },
     "execution_count": 18,
     "metadata": {},
     "output_type": "execute_result"
    }
   ],
   "source": [
    "sim_x"
   ]
  },
  {
   "cell_type": "code",
   "execution_count": 19,
   "id": "ac9b17c1-ad2b-496f-8c98-cd909d633fd4",
   "metadata": {},
   "outputs": [
    {
     "data": {
      "text/latex": [
       "$2.0819948 \\; \\mathrm{}$"
      ],
      "text/plain": [
       "<Quantity 2.08199479>"
      ]
     },
     "execution_count": 19,
     "metadata": {},
     "output_type": "execute_result"
    }
   ],
   "source": [
    "sim_y"
   ]
  },
  {
   "cell_type": "code",
   "execution_count": 20,
   "id": "54c6b25d-60cb-4d1e-b614-acb4b716a4e9",
   "metadata": {},
   "outputs": [],
   "source": [
    "Resolution = (conversion).to(u.kpc / u.arcsec) * (0.396 * u.arcsec) / (15 * u.kpc) * 8"
   ]
  },
  {
   "cell_type": "code",
   "execution_count": 21,
   "id": "493e0cb9-cf76-4514-a6dc-984276d2103b",
   "metadata": {},
   "outputs": [
    {
     "data": {
      "text/latex": [
       "$0.1195535 \\; \\mathrm{}$"
      ],
      "text/plain": [
       "<Quantity 0.1195535>"
      ]
     },
     "execution_count": 21,
     "metadata": {},
     "output_type": "execute_result"
    }
   ],
   "source": [
    "Resolution"
   ]
  },
  {
   "cell_type": "code",
   "execution_count": 22,
   "id": "704aa32c-aaac-4426-9cf5-ec369dee3246",
   "metadata": {},
   "outputs": [],
   "source": [
    "pixel_x = sim_x / Resolution\n",
    "pixel_y = sim_y / Resolution"
   ]
  },
  {
   "cell_type": "code",
   "execution_count": 23,
   "id": "f4d619c7-9177-401a-98ac-fb5c5808ae72",
   "metadata": {},
   "outputs": [
    {
     "data": {
      "text/latex": [
       "$-3.6329541 \\; \\mathrm{}$"
      ],
      "text/plain": [
       "<Quantity -3.63295412>"
      ]
     },
     "execution_count": 23,
     "metadata": {},
     "output_type": "execute_result"
    }
   ],
   "source": [
    "pixel_x"
   ]
  },
  {
   "cell_type": "code",
   "execution_count": 24,
   "id": "8458ff85-3910-40b2-853a-91605fbfd340",
   "metadata": {},
   "outputs": [
    {
     "data": {
      "text/latex": [
       "$17.414754 \\; \\mathrm{}$"
      ],
      "text/plain": [
       "<Quantity 17.41475417>"
      ]
     },
     "execution_count": 24,
     "metadata": {},
     "output_type": "execute_result"
    }
   ],
   "source": [
    "pixel_y"
   ]
  },
  {
   "cell_type": "code",
   "execution_count": 25,
   "id": "788172ec-83b3-4c27-a51a-ad7f74f88268",
   "metadata": {},
   "outputs": [
    {
     "name": "stderr",
     "output_type": "stream",
     "text": [
      "C:\\Users\\oryan\\AppData\\Local\\Continuum\\anaconda3\\lib\\site-packages\\ipykernel_launcher.py:2: RuntimeWarning: invalid value encountered in log10\n",
      "  \n"
     ]
    },
    {
     "data": {
      "image/png": "[encoded data removed]",
      "text/plain": [
       "<Figure size 640x480 with 1 Axes>"
      ]
     },
     "metadata": {},
     "output_type": "display_data"
    }
   ],
   "source": [
    "plt.figure()\n",
    "plt.imshow(np.log10(observed_arr) - 48.6)\n",
    "plt.scatter(pixel_x + 25, pixel_y + 25, color='r')\n",
    "plt.show()"
   ]
  },
  {
   "cell_type": "code",
   "execution_count": 26,
   "id": "1d746c21-88bf-4301-8fd7-363f3daff5df",
   "metadata": {},
   "outputs": [
    {
     "data": {
      "text/plain": [
       "0.11955349864681465"
      ]
     },
     "execution_count": 26,
     "metadata": {},
     "output_type": "execute_result"
    }
   ],
   "source": [
    "float(Resolution)"
   ]
  },
  {
   "cell_type": "markdown",
   "id": "5a73af9d-216f-4b4c-85bb-f0b912050748",
   "metadata": {},
   "source": [
    "### Finding Which Matches"
   ]
  },
  {
   "cell_type": "code",
   "execution_count": 28,
   "id": "85ba097d-d68b-4778-9aca-b28042dbf8b5",
   "metadata": {},
   "outputs": [],
   "source": [
    "redshifts = pd.read_csv('C:/Users/oryan/Documents/PySPAM_Original_Python_MCMC/APySPAM_MCMC/Redshifts/Redshifts.csv', index_col = 0)\n",
    "coordinates = pd.read_csv('C:/Users/oryan/Documents/Observational_Dataset/data/all_coords.csv', index_col = 0)"
   ]
  },
  {
   "cell_type": "code",
   "execution_count": 29,
   "id": "4d8bb272-cc61-4ee2-8e40-6e672a7e279c",
   "metadata": {},
   "outputs": [
    {
     "data": {
      "text/html": [
       "<div>\n",
       "<style scoped>\n",
       "    .dataframe tbody tr th:only-of-type {\n",
       "        vertical-align: middle;\n",
       "    }\n",
       "\n",
       "    .dataframe tbody tr th {\n",
       "        vertical-align: top;\n",
       "    }\n",
       "\n",
       "    .dataframe thead th {\n",
       "        text-align: right;\n",
       "    }\n",
       "</style>\n",
       "<table border=\"1\" class=\"dataframe\">\n",
       "  <thead>\n",
       "    <tr style=\"text-align: right;\">\n",
       "      <th></th>\n",
       "      <th>block_reduce</th>\n",
       "      <th>Names</th>\n",
       "      <th>Redshift</th>\n",
       "      <th>neg</th>\n",
       "      <th>transpose</th>\n",
       "    </tr>\n",
       "  </thead>\n",
       "  <tbody>\n",
       "    <tr>\n",
       "      <th>0</th>\n",
       "      <td>10</td>\n",
       "      <td>Arp240</td>\n",
       "      <td>0.02250</td>\n",
       "      <td>rereduce</td>\n",
       "      <td>rereduce</td>\n",
       "    </tr>\n",
       "    <tr>\n",
       "      <th>1</th>\n",
       "      <td>18</td>\n",
       "      <td>Arp290</td>\n",
       "      <td>0.01171</td>\n",
       "      <td>y</td>\n",
       "      <td>n</td>\n",
       "    </tr>\n",
       "    <tr>\n",
       "      <th>2</th>\n",
       "      <td>8</td>\n",
       "      <td>Arp142</td>\n",
       "      <td>0.02329</td>\n",
       "      <td>y</td>\n",
       "      <td>n</td>\n",
       "    </tr>\n",
       "    <tr>\n",
       "      <th>3</th>\n",
       "      <td>8</td>\n",
       "      <td>Arp318</td>\n",
       "      <td>0.01320</td>\n",
       "      <td>xy</td>\n",
       "      <td>y</td>\n",
       "    </tr>\n",
       "    <tr>\n",
       "      <th>4</th>\n",
       "      <td>8</td>\n",
       "      <td>Arp256</td>\n",
       "      <td>0.02730</td>\n",
       "      <td>n</td>\n",
       "      <td>n</td>\n",
       "    </tr>\n",
       "    <tr>\n",
       "      <th>5</th>\n",
       "      <td>8</td>\n",
       "      <td>UGC11751</td>\n",
       "      <td>0.02909</td>\n",
       "      <td>y</td>\n",
       "      <td>n</td>\n",
       "    </tr>\n",
       "    <tr>\n",
       "      <th>6</th>\n",
       "      <td>32</td>\n",
       "      <td>Arp104</td>\n",
       "      <td>0.01082</td>\n",
       "      <td>y</td>\n",
       "      <td>n</td>\n",
       "    </tr>\n",
       "    <tr>\n",
       "      <th>7</th>\n",
       "      <td>2</td>\n",
       "      <td>Heart</td>\n",
       "      <td>0.04000</td>\n",
       "      <td>rereduce</td>\n",
       "      <td>rereduce</td>\n",
       "    </tr>\n",
       "    <tr>\n",
       "      <th>8</th>\n",
       "      <td>22</td>\n",
       "      <td>Arp285</td>\n",
       "      <td>0.00967</td>\n",
       "      <td>rereduce</td>\n",
       "      <td>rereduce</td>\n",
       "    </tr>\n",
       "    <tr>\n",
       "      <th>9</th>\n",
       "      <td>90</td>\n",
       "      <td>Arp214</td>\n",
       "      <td>0.00331</td>\n",
       "      <td>y</td>\n",
       "      <td>n</td>\n",
       "    </tr>\n",
       "    <tr>\n",
       "      <th>10</th>\n",
       "      <td>2</td>\n",
       "      <td>NGC4320</td>\n",
       "      <td>0.02668</td>\n",
       "      <td>xy</td>\n",
       "      <td>n</td>\n",
       "    </tr>\n",
       "    <tr>\n",
       "      <th>11</th>\n",
       "      <td>6</td>\n",
       "      <td>Arp255</td>\n",
       "      <td>0.04106</td>\n",
       "      <td>xy</td>\n",
       "      <td>n</td>\n",
       "    </tr>\n",
       "    <tr>\n",
       "      <th>12</th>\n",
       "      <td>14</td>\n",
       "      <td>Arp82</td>\n",
       "      <td>0.01368</td>\n",
       "      <td>x</td>\n",
       "      <td>y</td>\n",
       "    </tr>\n",
       "    <tr>\n",
       "      <th>13</th>\n",
       "      <td>2</td>\n",
       "      <td>Arp239</td>\n",
       "      <td>0.02489</td>\n",
       "      <td>rereduce</td>\n",
       "      <td>rereduce</td>\n",
       "    </tr>\n",
       "    <tr>\n",
       "      <th>14</th>\n",
       "      <td>4</td>\n",
       "      <td>Arp199</td>\n",
       "      <td>0.01024</td>\n",
       "      <td>xy</td>\n",
       "      <td>y</td>\n",
       "    </tr>\n",
       "    <tr>\n",
       "      <th>15</th>\n",
       "      <td>10</td>\n",
       "      <td>Arp57</td>\n",
       "      <td>0.04800</td>\n",
       "      <td>y</td>\n",
       "      <td>n</td>\n",
       "    </tr>\n",
       "    <tr>\n",
       "      <th>16</th>\n",
       "      <td>4</td>\n",
       "      <td>Pair18</td>\n",
       "      <td>0.08900</td>\n",
       "      <td>NaN</td>\n",
       "      <td>NaN</td>\n",
       "    </tr>\n",
       "    <tr>\n",
       "      <th>17</th>\n",
       "      <td>6</td>\n",
       "      <td>Arp247</td>\n",
       "      <td>0.01108</td>\n",
       "      <td>xy</td>\n",
       "      <td>n</td>\n",
       "    </tr>\n",
       "    <tr>\n",
       "      <th>18</th>\n",
       "      <td>2</td>\n",
       "      <td>Arp241</td>\n",
       "      <td>0.03472</td>\n",
       "      <td>n</td>\n",
       "      <td>n</td>\n",
       "    </tr>\n",
       "    <tr>\n",
       "      <th>19</th>\n",
       "      <td>16</td>\n",
       "      <td>Arp313</td>\n",
       "      <td>0.01045</td>\n",
       "      <td>y</td>\n",
       "      <td>n</td>\n",
       "    </tr>\n",
       "    <tr>\n",
       "      <th>20</th>\n",
       "      <td>10</td>\n",
       "      <td>Arp107</td>\n",
       "      <td>0.03318</td>\n",
       "      <td>xy</td>\n",
       "      <td>n</td>\n",
       "    </tr>\n",
       "    <tr>\n",
       "      <th>21</th>\n",
       "      <td>12</td>\n",
       "      <td>Arp294</td>\n",
       "      <td>0.00892</td>\n",
       "      <td>y</td>\n",
       "      <td>n</td>\n",
       "    </tr>\n",
       "    <tr>\n",
       "      <th>22</th>\n",
       "      <td>4</td>\n",
       "      <td>Arp172</td>\n",
       "      <td>0.02900</td>\n",
       "      <td>rereduce</td>\n",
       "      <td>rereduce</td>\n",
       "    </tr>\n",
       "    <tr>\n",
       "      <th>23</th>\n",
       "      <td>6</td>\n",
       "      <td>Arp302</td>\n",
       "      <td>0.03286</td>\n",
       "      <td>x</td>\n",
       "      <td>y</td>\n",
       "    </tr>\n",
       "    <tr>\n",
       "      <th>24</th>\n",
       "      <td>6</td>\n",
       "      <td>Arp242</td>\n",
       "      <td>0.02205</td>\n",
       "      <td>xy</td>\n",
       "      <td>y</td>\n",
       "    </tr>\n",
       "    <tr>\n",
       "      <th>25</th>\n",
       "      <td>12</td>\n",
       "      <td>Arp72</td>\n",
       "      <td>0.01100</td>\n",
       "      <td>y</td>\n",
       "      <td>n</td>\n",
       "    </tr>\n",
       "    <tr>\n",
       "      <th>26</th>\n",
       "      <td>18</td>\n",
       "      <td>Arp101</td>\n",
       "      <td>0.02600</td>\n",
       "      <td>y</td>\n",
       "      <td>n</td>\n",
       "    </tr>\n",
       "    <tr>\n",
       "      <th>27</th>\n",
       "      <td>8</td>\n",
       "      <td>Arp58</td>\n",
       "      <td>0.03722</td>\n",
       "      <td>xy</td>\n",
       "      <td>y</td>\n",
       "    </tr>\n",
       "    <tr>\n",
       "      <th>28</th>\n",
       "      <td>8</td>\n",
       "      <td>Arp105</td>\n",
       "      <td>0.02100</td>\n",
       "      <td>x</td>\n",
       "      <td>y</td>\n",
       "    </tr>\n",
       "    <tr>\n",
       "      <th>29</th>\n",
       "      <td>10</td>\n",
       "      <td>Arp97</td>\n",
       "      <td>0.02305</td>\n",
       "      <td>y</td>\n",
       "      <td>n</td>\n",
       "    </tr>\n",
       "    <tr>\n",
       "      <th>30</th>\n",
       "      <td>6</td>\n",
       "      <td>Arp106</td>\n",
       "      <td>0.02199</td>\n",
       "      <td>xy</td>\n",
       "      <td>y</td>\n",
       "    </tr>\n",
       "    <tr>\n",
       "      <th>31</th>\n",
       "      <td>6</td>\n",
       "      <td>NGC2802</td>\n",
       "      <td>0.02914</td>\n",
       "      <td>rereduce</td>\n",
       "      <td>rereduce</td>\n",
       "    </tr>\n",
       "    <tr>\n",
       "      <th>32</th>\n",
       "      <td>6</td>\n",
       "      <td>Arp301</td>\n",
       "      <td>0.02059</td>\n",
       "      <td>rereduce</td>\n",
       "      <td>rereduce</td>\n",
       "    </tr>\n",
       "    <tr>\n",
       "      <th>33</th>\n",
       "      <td>18</td>\n",
       "      <td>Arp89</td>\n",
       "      <td>0.00687</td>\n",
       "      <td>n</td>\n",
       "      <td>n</td>\n",
       "    </tr>\n",
       "    <tr>\n",
       "      <th>34</th>\n",
       "      <td>8</td>\n",
       "      <td>Arp87</td>\n",
       "      <td>0.02373</td>\n",
       "      <td>y</td>\n",
       "      <td>n</td>\n",
       "    </tr>\n",
       "    <tr>\n",
       "      <th>35</th>\n",
       "      <td>4</td>\n",
       "      <td>Arp191</td>\n",
       "      <td>0.02739</td>\n",
       "      <td>xy</td>\n",
       "      <td>y</td>\n",
       "    </tr>\n",
       "    <tr>\n",
       "      <th>36</th>\n",
       "      <td>2</td>\n",
       "      <td>Arp237</td>\n",
       "      <td>0.02899</td>\n",
       "      <td>y</td>\n",
       "      <td>y</td>\n",
       "    </tr>\n",
       "    <tr>\n",
       "      <th>37</th>\n",
       "      <td>6</td>\n",
       "      <td>Arp181</td>\n",
       "      <td>0.02600</td>\n",
       "      <td>rereduce</td>\n",
       "      <td>rereduce</td>\n",
       "    </tr>\n",
       "    <tr>\n",
       "      <th>38</th>\n",
       "      <td>4</td>\n",
       "      <td>Arp238</td>\n",
       "      <td>0.03106</td>\n",
       "      <td>rereduce</td>\n",
       "      <td>rereduce</td>\n",
       "    </tr>\n",
       "    <tr>\n",
       "      <th>39</th>\n",
       "      <td>2</td>\n",
       "      <td>MCG+09-20-082</td>\n",
       "      <td>0.11300</td>\n",
       "      <td>rereduce</td>\n",
       "      <td>rereduce</td>\n",
       "    </tr>\n",
       "    <tr>\n",
       "      <th>40</th>\n",
       "      <td>6</td>\n",
       "      <td>Arp297</td>\n",
       "      <td>0.02800</td>\n",
       "      <td>rereduce</td>\n",
       "      <td>rereduce</td>\n",
       "    </tr>\n",
       "    <tr>\n",
       "      <th>41</th>\n",
       "      <td>14</td>\n",
       "      <td>NGC5753</td>\n",
       "      <td>0.01374</td>\n",
       "      <td>n</td>\n",
       "      <td>n</td>\n",
       "    </tr>\n",
       "    <tr>\n",
       "      <th>42</th>\n",
       "      <td>8</td>\n",
       "      <td>Arp173</td>\n",
       "      <td>0.02800</td>\n",
       "      <td>xy</td>\n",
       "      <td>y</td>\n",
       "    </tr>\n",
       "    <tr>\n",
       "      <th>43</th>\n",
       "      <td>14</td>\n",
       "      <td>Arp84</td>\n",
       "      <td>0.01158</td>\n",
       "      <td>rereduce</td>\n",
       "      <td>rereduce</td>\n",
       "    </tr>\n",
       "    <tr>\n",
       "      <th>44</th>\n",
       "      <td>2</td>\n",
       "      <td>UGC10650</td>\n",
       "      <td>0.05800</td>\n",
       "      <td>rereduce</td>\n",
       "      <td>rereduce</td>\n",
       "    </tr>\n",
       "    <tr>\n",
       "      <th>45</th>\n",
       "      <td>6</td>\n",
       "      <td>Arp112</td>\n",
       "      <td>0.02400</td>\n",
       "      <td>rereduce</td>\n",
       "      <td>rereduce</td>\n",
       "    </tr>\n",
       "    <tr>\n",
       "      <th>46</th>\n",
       "      <td>6</td>\n",
       "      <td>Arp274</td>\n",
       "      <td>0.02890</td>\n",
       "      <td>xy</td>\n",
       "      <td>y</td>\n",
       "    </tr>\n",
       "    <tr>\n",
       "      <th>47</th>\n",
       "      <td>2</td>\n",
       "      <td>Arp146</td>\n",
       "      <td>0.07544</td>\n",
       "      <td>xy</td>\n",
       "      <td>y</td>\n",
       "    </tr>\n",
       "    <tr>\n",
       "      <th>48</th>\n",
       "      <td>8</td>\n",
       "      <td>Arp143</td>\n",
       "      <td>0.01339</td>\n",
       "      <td>rereduce</td>\n",
       "      <td>rereduce</td>\n",
       "    </tr>\n",
       "    <tr>\n",
       "      <th>49</th>\n",
       "      <td>6</td>\n",
       "      <td>Arp70</td>\n",
       "      <td>0.03500</td>\n",
       "      <td>xy</td>\n",
       "      <td>y</td>\n",
       "    </tr>\n",
       "    <tr>\n",
       "      <th>50</th>\n",
       "      <td>6</td>\n",
       "      <td>Arp218</td>\n",
       "      <td>0.07500</td>\n",
       "      <td>xy</td>\n",
       "      <td>n</td>\n",
       "    </tr>\n",
       "    <tr>\n",
       "      <th>51</th>\n",
       "      <td>4</td>\n",
       "      <td>ViolinClef</td>\n",
       "      <td>0.10000</td>\n",
       "      <td>rereduce</td>\n",
       "      <td>rereduce</td>\n",
       "    </tr>\n",
       "    <tr>\n",
       "      <th>52</th>\n",
       "      <td>35</td>\n",
       "      <td>Arp305</td>\n",
       "      <td>0.00400</td>\n",
       "      <td>rereduce</td>\n",
       "      <td>rereduce</td>\n",
       "    </tr>\n",
       "    <tr>\n",
       "      <th>53</th>\n",
       "      <td>3</td>\n",
       "      <td>Arp148</td>\n",
       "      <td>0.03452</td>\n",
       "      <td>rereduce</td>\n",
       "      <td>rereduce</td>\n",
       "    </tr>\n",
       "    <tr>\n",
       "      <th>54</th>\n",
       "      <td>8</td>\n",
       "      <td>CGCG436-030</td>\n",
       "      <td>0.03123</td>\n",
       "      <td>rereduce</td>\n",
       "      <td>rereduce</td>\n",
       "    </tr>\n",
       "    <tr>\n",
       "      <th>55</th>\n",
       "      <td>3</td>\n",
       "      <td>Arp272</td>\n",
       "      <td>0.03685</td>\n",
       "      <td>rereduce</td>\n",
       "      <td>rereduce</td>\n",
       "    </tr>\n",
       "    <tr>\n",
       "      <th>56</th>\n",
       "      <td>4</td>\n",
       "      <td>NGC5331</td>\n",
       "      <td>0.03304</td>\n",
       "      <td>rereduce</td>\n",
       "      <td>rereduce</td>\n",
       "    </tr>\n",
       "    <tr>\n",
       "      <th>57</th>\n",
       "      <td>45</td>\n",
       "      <td>ESO77-14</td>\n",
       "      <td>0.04156</td>\n",
       "      <td>rereduce</td>\n",
       "      <td>rereduce</td>\n",
       "    </tr>\n",
       "  </tbody>\n",
       "</table>\n",
       "</div>"
      ],
      "text/plain": [
       "    block_reduce          Names  Redshift       neg transpose\n",
       "0             10         Arp240   0.02250  rereduce  rereduce\n",
       "1             18         Arp290   0.01171         y         n\n",
       "2              8         Arp142   0.02329         y         n\n",
       "3              8         Arp318   0.01320        xy         y\n",
       "4              8         Arp256   0.02730         n         n\n",
       "5              8       UGC11751   0.02909         y         n\n",
       "6             32         Arp104   0.01082         y         n\n",
       "7              2          Heart   0.04000  rereduce  rereduce\n",
       "8             22         Arp285   0.00967  rereduce  rereduce\n",
       "9             90         Arp214   0.00331         y         n\n",
       "10             2        NGC4320   0.02668        xy         n\n",
       "11             6         Arp255   0.04106        xy         n\n",
       "12            14          Arp82   0.01368         x         y\n",
       "13             2         Arp239   0.02489  rereduce  rereduce\n",
       "14             4         Arp199   0.01024        xy         y\n",
       "15            10          Arp57   0.04800         y         n\n",
       "16             4         Pair18   0.08900       NaN       NaN\n",
       "17             6         Arp247   0.01108        xy         n\n",
       "18             2         Arp241   0.03472         n         n\n",
       "19            16         Arp313   0.01045         y         n\n",
       "20            10         Arp107   0.03318        xy         n\n",
       "21            12         Arp294   0.00892         y         n\n",
       "22             4         Arp172   0.02900  rereduce  rereduce\n",
       "23             6         Arp302   0.03286         x         y\n",
       "24             6         Arp242   0.02205        xy         y\n",
       "25            12          Arp72   0.01100         y         n\n",
       "26            18         Arp101   0.02600         y         n\n",
       "27             8          Arp58   0.03722        xy         y\n",
       "28             8         Arp105   0.02100         x         y\n",
       "29            10          Arp97   0.02305         y         n\n",
       "30             6         Arp106   0.02199        xy         y\n",
       "31             6        NGC2802   0.02914  rereduce  rereduce\n",
       "32             6         Arp301   0.02059  rereduce  rereduce\n",
       "33            18          Arp89   0.00687         n         n\n",
       "34             8          Arp87   0.02373         y         n\n",
       "35             4         Arp191   0.02739        xy         y\n",
       "36             2         Arp237   0.02899         y         y\n",
       "37             6         Arp181   0.02600  rereduce  rereduce\n",
       "38             4         Arp238   0.03106  rereduce  rereduce\n",
       "39             2  MCG+09-20-082   0.11300  rereduce  rereduce\n",
       "40             6         Arp297   0.02800  rereduce  rereduce\n",
       "41            14        NGC5753   0.01374         n         n\n",
       "42             8         Arp173   0.02800        xy         y\n",
       "43            14          Arp84   0.01158  rereduce  rereduce\n",
       "44             2       UGC10650   0.05800  rereduce  rereduce\n",
       "45             6         Arp112   0.02400  rereduce  rereduce\n",
       "46             6         Arp274   0.02890        xy         y\n",
       "47             2         Arp146   0.07544        xy         y\n",
       "48             8         Arp143   0.01339  rereduce  rereduce\n",
       "49             6          Arp70   0.03500        xy         y\n",
       "50             6         Arp218   0.07500        xy         n\n",
       "51             4     ViolinClef   0.10000  rereduce  rereduce\n",
       "52            35         Arp305   0.00400  rereduce  rereduce\n",
       "53             3         Arp148   0.03452  rereduce  rereduce\n",
       "54             8    CGCG436-030   0.03123  rereduce  rereduce\n",
       "55             3         Arp272   0.03685  rereduce  rereduce\n",
       "56             4        NGC5331   0.03304  rereduce  rereduce\n",
       "57            45       ESO77-14   0.04156  rereduce  rereduce"
      ]
     },
     "execution_count": 29,
     "metadata": {},
     "output_type": "execute_result"
    }
   ],
   "source": [
    "redshifts"
   ]
  },
  {
   "cell_type": "code",
   "execution_count": 318,
   "id": "9658bf62-540a-4137-858b-cc2d5f0daff3",
   "metadata": {},
   "outputs": [],
   "source": [
    "gal_names = list(\n",
    "    coordinates\n",
    "    .Names\n",
    ")"
   ]
  },
  {
   "cell_type": "code",
   "execution_count": 31,
   "id": "3a188a6c-aea0-4942-84f6-955c896ed6ac",
   "metadata": {},
   "outputs": [
    {
     "data": {
      "text/html": [
       "<div>\n",
       "<style scoped>\n",
       "    .dataframe tbody tr th:only-of-type {\n",
       "        vertical-align: middle;\n",
       "    }\n",
       "\n",
       "    .dataframe tbody tr th {\n",
       "        vertical-align: top;\n",
       "    }\n",
       "\n",
       "    .dataframe thead th {\n",
       "        text-align: right;\n",
       "    }\n",
       "</style>\n",
       "<table border=\"1\" class=\"dataframe\">\n",
       "  <thead>\n",
       "    <tr style=\"text-align: right;\">\n",
       "      <th></th>\n",
       "      <th>block_reduce</th>\n",
       "      <th>Names</th>\n",
       "      <th>Redshift</th>\n",
       "      <th>neg</th>\n",
       "      <th>transpose</th>\n",
       "    </tr>\n",
       "  </thead>\n",
       "  <tbody>\n",
       "    <tr>\n",
       "      <th>0</th>\n",
       "      <td>10</td>\n",
       "      <td>Arp240</td>\n",
       "      <td>0.02250</td>\n",
       "      <td>rereduce</td>\n",
       "      <td>rereduce</td>\n",
       "    </tr>\n",
       "    <tr>\n",
       "      <th>1</th>\n",
       "      <td>18</td>\n",
       "      <td>Arp290</td>\n",
       "      <td>0.01171</td>\n",
       "      <td>y</td>\n",
       "      <td>n</td>\n",
       "    </tr>\n",
       "    <tr>\n",
       "      <th>2</th>\n",
       "      <td>8</td>\n",
       "      <td>Arp142</td>\n",
       "      <td>0.02329</td>\n",
       "      <td>y</td>\n",
       "      <td>n</td>\n",
       "    </tr>\n",
       "    <tr>\n",
       "      <th>3</th>\n",
       "      <td>8</td>\n",
       "      <td>Arp318</td>\n",
       "      <td>0.01320</td>\n",
       "      <td>xy</td>\n",
       "      <td>y</td>\n",
       "    </tr>\n",
       "    <tr>\n",
       "      <th>4</th>\n",
       "      <td>8</td>\n",
       "      <td>Arp256</td>\n",
       "      <td>0.02730</td>\n",
       "      <td>n</td>\n",
       "      <td>n</td>\n",
       "    </tr>\n",
       "  </tbody>\n",
       "</table>\n",
       "</div>"
      ],
      "text/plain": [
       "   block_reduce   Names  Redshift       neg transpose\n",
       "0            10  Arp240   0.02250  rereduce  rereduce\n",
       "1            18  Arp290   0.01171         y         n\n",
       "2             8  Arp142   0.02329         y         n\n",
       "3             8  Arp318   0.01320        xy         y\n",
       "4             8  Arp256   0.02730         n         n"
      ]
     },
     "execution_count": 31,
     "metadata": {},
     "output_type": "execute_result"
    }
   ],
   "source": [
    "redshifts.head()"
   ]
  },
  {
   "cell_type": "code",
   "execution_count": 322,
   "id": "3dc0bb0e-35cf-4041-a728-747698a93b6f",
   "metadata": {},
   "outputs": [
    {
     "data": {
      "text/html": [
       "<div>\n",
       "<style scoped>\n",
       "    .dataframe tbody tr th:only-of-type {\n",
       "        vertical-align: middle;\n",
       "    }\n",
       "\n",
       "    .dataframe tbody tr th {\n",
       "        vertical-align: top;\n",
       "    }\n",
       "\n",
       "    .dataframe thead th {\n",
       "        text-align: right;\n",
       "    }\n",
       "</style>\n",
       "<table border=\"1\" class=\"dataframe\">\n",
       "  <thead>\n",
       "    <tr style=\"text-align: right;\">\n",
       "      <th></th>\n",
       "      <th>Prim_RA</th>\n",
       "      <th>Prim_DEC</th>\n",
       "      <th>Names</th>\n",
       "      <th>Sec_RA</th>\n",
       "      <th>Sec_DEC</th>\n",
       "    </tr>\n",
       "  </thead>\n",
       "  <tbody>\n",
       "    <tr>\n",
       "      <th>0</th>\n",
       "      <td>204.970333</td>\n",
       "      <td>0.839844</td>\n",
       "      <td>Arp240</td>\n",
       "      <td>204.990208</td>\n",
       "      <td>0.830667</td>\n",
       "    </tr>\n",
       "    <tr>\n",
       "      <th>1</th>\n",
       "      <td>30.957167</td>\n",
       "      <td>14.738644</td>\n",
       "      <td>Arp290</td>\n",
       "      <td>30.937292</td>\n",
       "      <td>14.709056</td>\n",
       "    </tr>\n",
       "    <tr>\n",
       "      <th>2</th>\n",
       "      <td>144.433333</td>\n",
       "      <td>2.760164</td>\n",
       "      <td>Arp142</td>\n",
       "      <td>144.437875</td>\n",
       "      <td>2.746886</td>\n",
       "    </tr>\n",
       "    <tr>\n",
       "      <th>3</th>\n",
       "      <td>32.352333</td>\n",
       "      <td>-10.136006</td>\n",
       "      <td>Arp318</td>\n",
       "      <td>32.337292</td>\n",
       "      <td>-10.133158</td>\n",
       "    </tr>\n",
       "    <tr>\n",
       "      <th>4</th>\n",
       "      <td>4.708583</td>\n",
       "      <td>-10.361625</td>\n",
       "      <td>Arp256</td>\n",
       "      <td>4.711833</td>\n",
       "      <td>-10.376950</td>\n",
       "    </tr>\n",
       "  </tbody>\n",
       "</table>\n",
       "</div>"
      ],
      "text/plain": [
       "      Prim_RA   Prim_DEC    Names      Sec_RA    Sec_DEC\n",
       "0  204.970333   0.839844   Arp240  204.990208   0.830667\n",
       "1   30.957167  14.738644   Arp290   30.937292  14.709056\n",
       "2  144.433333   2.760164   Arp142  144.437875   2.746886\n",
       "3   32.352333 -10.136006   Arp318   32.337292 -10.133158\n",
       "4    4.708583 -10.361625   Arp256    4.711833 -10.376950"
      ]
     },
     "execution_count": 322,
     "metadata": {},
     "output_type": "execute_result"
    }
   ],
   "source": [
    "coordinates.head()"
   ]
  },
  {
   "cell_type": "code",
   "execution_count": 331,
   "id": "ae3b2ed2-6a42-4238-8aac-abfe04706365",
   "metadata": {},
   "outputs": [
    {
     "data": {
      "text/latex": [
       "$-33.571778 \\; \\mathrm{kpc}$"
      ],
      "text/plain": [
       "<Quantity -33.57177826 kpc>"
      ]
     },
     "execution_count": 331,
     "metadata": {},
     "output_type": "execute_result"
    }
   ],
   "source": [
    "x"
   ]
  },
  {
   "cell_type": "code",
   "execution_count": 363,
   "id": "90f4e3f4-607b-432b-9a97-6d5f2b667cfb",
   "metadata": {},
   "outputs": [
    {
     "name": "stderr",
     "output_type": "stream",
     "text": [
      "  0%|          | 0/54 [00:00<?, ?it/s]C:\\Users\\oryan\\AppData\\Local\\Continuum\\anaconda3\\lib\\site-packages\\ipykernel_launcher.py:40: RuntimeWarning: invalid value encountered in log10\n",
      "C:\\Users\\oryan\\AppData\\Local\\Continuum\\anaconda3\\lib\\site-packages\\ipykernel_launcher.py:46: RuntimeWarning: invalid value encountered in log10\n",
      "C:\\Users\\oryan\\AppData\\Local\\Continuum\\anaconda3\\lib\\site-packages\\ipykernel_launcher.py:52: RuntimeWarning: invalid value encountered in log10\n",
      "C:\\Users\\oryan\\AppData\\Local\\Continuum\\anaconda3\\lib\\site-packages\\ipykernel_launcher.py:58: RuntimeWarning: invalid value encountered in log10\n",
      "C:\\Users\\oryan\\AppData\\Local\\Continuum\\anaconda3\\lib\\site-packages\\ipykernel_launcher.py:64: RuntimeWarning: invalid value encountered in log10\n",
      "C:\\Users\\oryan\\AppData\\Local\\Continuum\\anaconda3\\lib\\site-packages\\ipykernel_launcher.py:70: RuntimeWarning: invalid value encountered in log10\n",
      "C:\\Users\\oryan\\AppData\\Local\\Continuum\\anaconda3\\lib\\site-packages\\ipykernel_launcher.py:76: RuntimeWarning: invalid value encountered in log10\n",
      "C:\\Users\\oryan\\AppData\\Local\\Continuum\\anaconda3\\lib\\site-packages\\ipykernel_launcher.py:82: RuntimeWarning: invalid value encountered in log10\n",
      "100%|██████████| 54/54 [01:56<00:00,  2.16s/it]\n"
     ]
    }
   ],
   "source": [
    "for i in tqdm(gal_names):\n",
    "    name = i.strip()\n",
    "    \n",
    "    try:\n",
    "        observed_arr = np.load(f'C:/Users/oryan/Documents/PySPAM_Original_Python_MCMC/APySPAM_MCMC/All_Inputs/{name}.npy')\n",
    "    except:\n",
    "        continue\n",
    "    \n",
    "    z_row = redshifts.query('Names == @name')\n",
    "    row = coordinates.query('Names == @i')\n",
    "    \n",
    "    if len(row) < 0.5:\n",
    "        continue\n",
    "    \n",
    "    z = z_row.Redshift.iloc[0]\n",
    "    block_reduce = z_row.block_reduce.iloc[0]\n",
    "    \n",
    "    prim_coord = SkyCoord(ra = row.Prim_RA.iloc[0]* u.deg, dec = row.Prim_DEC.iloc[0] * u.deg, frame = 'fk5')\n",
    "    sec_coord = SkyCoord(ra = row.Sec_RA.iloc[0] * u.deg, dec = row.Sec_DEC.iloc[0] * u.deg, frame = 'fk5')\n",
    "    \n",
    "    dra, ddec = sec_coord.spherical_offsets_to(prim_coord)\n",
    "    \n",
    "    dra_as = dra.to(u.arcsec)\n",
    "    ddec_as = ddec.to(u.arcsec)\n",
    "    \n",
    "    conversion = cosmo.kpc_proper_per_arcmin(z).to(u.kpc / u.arcsec)\n",
    "    \n",
    "    x = conversion * dra_as\n",
    "    y = conversion * ddec_as\n",
    "    \n",
    "    Resolution = (conversion) * (0.396 * u.arcsec) * block_reduce\n",
    "    \n",
    "    pixel_x = x / Resolution\n",
    "    pixel_y = y / Resolution\n",
    "    \n",
    "    flip_x = -x / Resolution\n",
    "    flip_y = -y / Resolution\n",
    "    \n",
    "    plt.figure(figsize = (12,12))\n",
    "    plt.imshow(np.log10(observed_arr) - 48.6)\n",
    "    plt.scatter(pixel_x + 25, pixel_y + 25, color='r', s = 100)\n",
    "    plt.savefig(f'C:/Users/oryan/Documents/testing-coords/{name}.jpeg')\n",
    "    plt.close()\n",
    "    \n",
    "    plt.figure(figsize = (12,12))\n",
    "    plt.imshow(np.log10(observed_arr) - 48.6)\n",
    "    plt.scatter(pixel_x + 25, flip_y + 25, color='r', s = 100)\n",
    "    plt.savefig(f'C:/Users/oryan/Documents/testing-coords/{name}_neg_y.jpeg')\n",
    "    plt.close()\n",
    "    \n",
    "    plt.figure(figsize = (12,12))\n",
    "    plt.imshow(np.log10(observed_arr) - 48.6)\n",
    "    plt.scatter(flip_x + 25, pixel_y + 25, color='r', s = 100)\n",
    "    plt.savefig(f'C:/Users/oryan/Documents/testing-coords/{name}_neg_x.jpeg')\n",
    "    plt.close()\n",
    "    \n",
    "    plt.figure(figsize = (12,12))\n",
    "    plt.imshow(np.log10(observed_arr) - 48.6)\n",
    "    plt.scatter(flip_x + 25, flip_y + 25, color='r', s = 100)\n",
    "    plt.savefig(f'C:/Users/oryan/Documents/testing-coords/{name}_both.jpeg')\n",
    "    plt.close()\n",
    "    \n",
    "    plt.figure(figsize = (12,12))\n",
    "    plt.imshow(np.log10(observed_arr) - 48.6)\n",
    "    plt.scatter(pixel_y + 25, pixel_x + 25, color='r', s = 100)\n",
    "    plt.savefig(f'C:/Users/oryan/Documents/testing-coords/{name}_transpose.jpeg')\n",
    "    plt.close()\n",
    "    \n",
    "    plt.figure(figsize = (12,12))\n",
    "    plt.imshow(np.log10(observed_arr) - 48.6)\n",
    "    plt.scatter(flip_y + 25, pixel_x + 25, color='r', s = 100)\n",
    "    plt.savefig(f'C:/Users/oryan/Documents/testing-coords/{name}_transpose_neg_x.jpeg')\n",
    "    plt.close()\n",
    "    \n",
    "    plt.figure(figsize = (12,12))\n",
    "    plt.imshow(np.log10(observed_arr) - 48.6)\n",
    "    plt.scatter(pixel_y + 25, flip_x + 25, color='r', s = 100)\n",
    "    plt.savefig(f'C:/Users/oryan/Documents/testing-coords/{name}_transpose_neg_y.jpeg')\n",
    "    plt.close()\n",
    "    \n",
    "    plt.figure(figsize = (12,12))\n",
    "    plt.imshow(np.log10(observed_arr) - 48.6)\n",
    "    plt.scatter(flip_y + 25, flip_x + 25, color='r', s = 100)\n",
    "    plt.savefig(f'C:/Users/oryan/Documents/testing-coords/{name}_transpose_both.jpeg')\n",
    "    plt.close()"
   ]
  },
  {
   "cell_type": "code",
   "execution_count": null,
   "id": "872681bc-c8e4-4b0b-bda6-a5deefe15918",
   "metadata": {},
   "outputs": [],
   "source": []
  }
 ],
 "metadata": {
  "kernelspec": {
   "display_name": "Python 3 (ipykernel)",
   "language": "python",
   "name": "python3"
  },
  "language_info": {
   "codemirror_mode": {
    "name": "ipython",
    "version": 3
   },
   "file_extension": ".py",
   "mimetype": "text/x-python",
   "name": "python",
   "nbconvert_exporter": "python",
   "pygments_lexer": "ipython3",
   "version": "3.7.13"
  }
 },
 "nbformat": 4,
 "nbformat_minor": 5
}
