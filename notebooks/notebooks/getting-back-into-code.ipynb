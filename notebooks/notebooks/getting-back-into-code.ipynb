{
 "cells": [
  {
   "cell_type": "code",
   "execution_count": 1,
   "id": "0f797481-49e8-4e18-8ff7-b9dfa2946cda",
   "metadata": {},
   "outputs": [],
   "source": [
    "import matplotlib.pyplot as plt\n",
    "import numpy as np\n",
    "import pandas as pd\n",
    "\n",
    "from astropy.coordinates import SkyCoord\n",
    "import astropy.units as u\n",
    "from astropy.cosmology import FlatLambdaCDM"
   ]
  },
  {
   "cell_type": "code",
   "execution_count": 2,
   "id": "e589190f-e682-4d8e-969a-f7855156916f",
   "metadata": {},
   "outputs": [],
   "source": [
    "results_arr = np.load('C:/Users/oryan/Documents/PySPAM_Original_Python_MCMC/APySPAM_MCMC/sim_input/results.npy')\n",
    "observed_arr = np.load('C:/Users/oryan/Documents/PySPAM_Original_Python_MCMC/APySPAM_MCMC/All_Inputs/Arp256.npy')"
   ]
  },
  {
   "cell_type": "code",
   "execution_count": 3,
   "id": "62d73669-e465-4f19-8502-f8cde2ef3d23",
   "metadata": {},
   "outputs": [
    {
     "name": "stderr",
     "output_type": "stream",
     "text": [
      "C:\\Users\\oryan\\AppData\\Local\\Continuum\\anaconda3\\lib\\site-packages\\ipykernel_launcher.py:2: RuntimeWarning: invalid value encountered in log10\n",
      "  \n"
     ]
    },
    {
     "data": {
      "image/png": "[encoded data removed]",
      "text/plain": [
       "<Figure size 1200x1200 with 1 Axes>"
      ]
     },
     "metadata": {},
     "output_type": "display_data"
    }
   ],
   "source": [
    "plt.figure(figsize = (12,12))\n",
    "plt.imshow(np.log10(observed_arr) - 48.6)\n",
    "plt.show()"
   ]
  },
  {
   "cell_type": "code",
   "execution_count": 4,
   "id": "6a2010b6-10d6-486b-9b90-2a1333a99ee7",
   "metadata": {},
   "outputs": [],
   "source": [
    "coords_df = pd.read_csv('C:/Users/oryan/Documents/Observational_Dataset/data/all_coords.csv', index_col = 0)"
   ]
  },
  {
   "cell_type": "code",
   "execution_count": 5,
   "id": "936dca5a-c0bb-4ab2-b6a1-bfe04bb7ec3c",
   "metadata": {},
   "outputs": [],
   "source": [
    "arp256_coords = coords_df.query('Names == \" Arp256\"')"
   ]
  },
  {
   "cell_type": "code",
   "execution_count": 6,
   "id": "c3159677-4a4e-42df-b3ed-ae94fd3a9598",
   "metadata": {},
   "outputs": [
    {
     "data": {
      "text/html": [
       "<div>\n",
       "<style scoped>\n",
       "    .dataframe tbody tr th:only-of-type {\n",
       "        vertical-align: middle;\n",
       "    }\n",
       "\n",
       "    .dataframe tbody tr th {\n",
       "        vertical-align: top;\n",
       "    }\n",
       "\n",
       "    .dataframe thead th {\n",
       "        text-align: right;\n",
       "    }\n",
       "</style>\n",
       "<table border=\"1\" class=\"dataframe\">\n",
       "  <thead>\n",
       "    <tr style=\"text-align: right;\">\n",
       "      <th></th>\n",
       "      <th>Prim_RA</th>\n",
       "      <th>Prim_DEC</th>\n",
       "      <th>Names</th>\n",
       "      <th>Sec_RA</th>\n",
       "      <th>Sec_DEC</th>\n",
       "    </tr>\n",
       "  </thead>\n",
       "  <tbody>\n",
       "    <tr>\n",
       "      <th>4</th>\n",
       "      <td>4.708583</td>\n",
       "      <td>-10.361625</td>\n",
       "      <td>Arp256</td>\n",
       "      <td>4.711833</td>\n",
       "      <td>-10.37695</td>\n",
       "    </tr>\n",
       "  </tbody>\n",
       "</table>\n",
       "</div>"
      ],
      "text/plain": [
       "    Prim_RA   Prim_DEC    Names    Sec_RA   Sec_DEC\n",
       "4  4.708583 -10.361625   Arp256  4.711833 -10.37695"
      ]
     },
     "execution_count": 6,
     "metadata": {},
     "output_type": "execute_result"
    }
   ],
   "source": [
    "arp256_coords"
   ]
  },
  {
   "cell_type": "code",
   "execution_count": 7,
   "id": "c9183921-af14-4157-b4ac-891728ae71c1",
   "metadata": {},
   "outputs": [],
   "source": [
    "arp256_ob = (\n",
    "    arp256_coords\n",
    "    .assign(prim_coords = arp256_coords.apply(lambda row: SkyCoord(ra = row.Prim_RA  * u.deg, dec = row.Prim_DEC * u.deg, frame = 'fk5'), axis=1))\n",
    "    .assign(sec_coords = arp256_coords.apply(lambda row: SkyCoord(ra = row.Sec_RA  * u.deg, dec = row.Sec_DEC * u.deg, frame = 'fk5'), axis=1))    \n",
    ")"
   ]
  },
  {
   "cell_type": "code",
   "execution_count": 8,
   "id": "0557597b-7cb0-45d3-a0c5-08ae725c42fe",
   "metadata": {},
   "outputs": [],
   "source": [
    "dra, ddec = arp256_ob.prim_coords.iloc[0].spherical_offsets_to(arp256_ob.sec_coords.iloc[0])"
   ]
  },
  {
   "cell_type": "code",
   "execution_count": 9,
   "id": "45867d8c-9578-4af8-87d6-69aab7fc1343",
   "metadata": {},
   "outputs": [],
   "source": [
    "dra_m = dra.to(u.arcmin)"
   ]
  },
  {
   "cell_type": "code",
   "execution_count": 10,
   "id": "1e76e12a-ff92-417c-96d6-218777424420",
   "metadata": {},
   "outputs": [],
   "source": [
    "ddec_m = ddec.to(u.arcmin)"
   ]
  },
  {
   "cell_type": "code",
   "execution_count": 11,
   "id": "b332afaa-4c04-4642-b87f-1f607a18a424",
   "metadata": {},
   "outputs": [],
   "source": [
    "cosmo = FlatLambdaCDM(H0=67.8 * u.km / u.s / u.Mpc, Tcmb0=2.275 * u.K, Om0 = 0.308)"
   ]
  },
  {
   "cell_type": "code",
   "execution_count": 12,
   "id": "647259c2-1b4d-486c-bd7f-2b956417f673",
   "metadata": {},
   "outputs": [],
   "source": [
    "z = 0.0273"
   ]
  },
  {
   "cell_type": "code",
   "execution_count": 13,
   "id": "3ae26427-76bc-4662-8333-90fae11440f9",
   "metadata": {},
   "outputs": [],
   "source": [
    "conversion = cosmo.kpc_proper_per_arcmin(z)"
   ]
  },
  {
   "cell_type": "code",
   "execution_count": 14,
   "id": "4d652405-ec22-4dc6-823b-a0817fcebe26",
   "metadata": {},
   "outputs": [],
   "source": [
    "x = conversion * dra_m\n",
    "y = conversion * ddec_m"
   ]
  },
  {
   "cell_type": "code",
   "execution_count": 15,
   "id": "5d414799-39dd-440a-a88a-dc07adf9e7fd",
   "metadata": {},
   "outputs": [
    {
     "data": {
      "text/latex": [
       "$6.5146668 \\; \\mathrm{kpc}$"
      ],
      "text/plain": [
       "<Quantity 6.51466678 kpc>"
      ]
     },
     "execution_count": 15,
     "metadata": {},
     "output_type": "execute_result"
    }
   ],
   "source": [
    "x"
   ]
  },
  {
   "cell_type": "code",
   "execution_count": 16,
   "id": "3c793f0e-cb3f-4951-b831-0b42363de60c",
   "metadata": {},
   "outputs": [
    {
     "data": {
      "text/latex": [
       "$-31.229988 \\; \\mathrm{kpc}$"
      ],
      "text/plain": [
       "<Quantity -31.22998835 kpc>"
      ]
     },
     "execution_count": 16,
     "metadata": {},
     "output_type": "execute_result"
    }
   ],
   "source": [
    "y"
   ]
  },
  {
   "cell_type": "code",
   "execution_count": 17,
   "id": "b3e9e914-d935-4377-90bb-a23e5c078581",
   "metadata": {},
   "outputs": [],
   "source": [
    "sim_x = x / (15 * u.kpc)\n",
    "sim_y = y / (15 * u.kpc)"
   ]
  },
  {
   "cell_type": "code",
   "execution_count": 18,
   "id": "9ad0f6ae-2ccd-4837-8f25-bea71aef69ea",
   "metadata": {},
   "outputs": [
    {
     "data": {
      "text/latex": [
       "$0.43431112 \\; \\mathrm{}$"
      ],
      "text/plain": [
       "<Quantity 0.43431112>"
      ]
     },
     "execution_count": 18,
     "metadata": {},
     "output_type": "execute_result"
    }
   ],
   "source": [
    "sim_x"
   ]
  },
  {
   "cell_type": "code",
   "execution_count": 19,
   "id": "ac9b17c1-ad2b-496f-8c98-cd909d633fd4",
   "metadata": {},
   "outputs": [
    {
     "data": {
      "text/latex": [
       "$-2.0819992 \\; \\mathrm{}$"
      ],
      "text/plain": [
       "<Quantity -2.08199922>"
      ]
     },
     "execution_count": 19,
     "metadata": {},
     "output_type": "execute_result"
    }
   ],
   "source": [
    "sim_y"
   ]
  }
 ],
 "metadata": {
  "kernelspec": {
   "display_name": "Python 3 (ipykernel)",
   "language": "python",
   "name": "python3"
  },
  "language_info": {
   "codemirror_mode": {
    "name": "ipython",
    "version": 3
   },
   "file_extension": ".py",
   "mimetype": "text/x-python",
   "name": "python",
   "nbconvert_exporter": "python",
   "pygments_lexer": "ipython3",
   "version": "3.7.13"
  }
 },
 "nbformat": 4,
 "nbformat_minor": 5
}
