{
 "cells": [
  {
   "cell_type": "code",
   "execution_count": 2,
   "id": "4331e48e-5bd8-4e10-be6c-68307e23cb99",
   "metadata": {},
   "outputs": [],
   "source": [
    "import torch\n",
    "import numpy as np\n",
    "\n",
    "from sbi import utils as utils\n",
    "from sbi import analysis as analysis\n",
    "from sbi.inference.base import infer"
   ]
  },
  {
   "cell_type": "code",
   "execution_count": 5,
   "id": "64e3e7e9-51b2-45ed-bbaf-d62bf3018893",
   "metadata": {},
   "outputs": [],
   "source": [
    "num_dim = 3"
   ]
  },
  {
   "cell_type": "code",
   "execution_count": 6,
   "id": "6e2df043-7c87-48f3-8136-a8ef951afc95",
   "metadata": {},
   "outputs": [],
   "source": [
    "prior = utils.BoxUniform(low = -2 * torch.ones(num_dim), high = 2* torch.ones(num_dim))"
   ]
  },
  {
   "cell_type": "code",
   "execution_count": 7,
   "id": "42ea7145-7cf7-40cd-bf0a-5c4ddaa8fcff",
   "metadata": {},
   "outputs": [
    {
     "data": {
      "text/plain": [
       "BoxUniform(Uniform(low: torch.Size([3]), high: torch.Size([3])), 1)"
      ]
     },
     "execution_count": 7,
     "metadata": {},
     "output_type": "execute_result"
    }
   ],
   "source": [
    "prior"
   ]
  },
  {
   "cell_type": "code",
   "execution_count": 12,
   "id": "6dda92b5-ede0-4aeb-8ca1-a3aea3ade9f8",
   "metadata": {},
   "outputs": [],
   "source": [
    "def simulator(parameter_set):\n",
    "    return 1.0 + parameter_set + torch.randn(parameter_set.shape) * 0.1"
   ]
  },
  {
   "cell_type": "code",
   "execution_count": null,
   "id": "72295ead-12ae-4fdf-89e4-a1e0765b4b86",
   "metadata": {},
   "outputs": [
    {
     "name": "stderr",
     "output_type": "stream",
     "text": [
      "C:\\Users\\oryan\\AppData\\Local\\Continuum\\anaconda3\\lib\\site-packages\\h5py\\__init__.py:39: UserWarning: h5py is running against HDF5 1.12.1 when it was built against 1.12.2, this may cause problems\n",
      "  '{0}.{1}.{2}'.format(*version.hdf5_built_version_tuple)\n"
     ]
    }
   ],
   "source": [
    "posterior = infer(simulator, prior, method = 'SNPE', num_simulations = 1000)"
   ]
  },
  {
   "cell_type": "markdown",
   "id": "78b1b12b-36a0-4744-be57-17ba581907a5",
   "metadata": {},
   "source": [
    "Ok, so can't really run this in my Notebook as it seems to crash the kernel, not sure why. \n",
    "\n",
    "Let's foxus on getting tests working for script. What do I need?\n",
    "\n",
    "Need to be able to set up my prior!"
   ]
  },
  {
   "cell_type": "markdown",
   "id": "15031fd5-3443-43ed-a52b-2949cb6361b3",
   "metadata": {},
   "source": [
    "### Setting Priors for our Model"
   ]
  },
  {
   "cell_type": "code",
   "execution_count": 1,
   "id": "264df4c5-c012-4fba-8014-ea5dc1f157b8",
   "metadata": {},
   "outputs": [],
   "source": [
    "priors_min = [-20, -20, -20, -20, 0.01, 0.01, 0.01, 0.01, 0, 0, 0, 0, -7]\n",
    "priors_max = [20, 20, 20, 20, 10, 10, 4, 4, 360, 360, 360, 360, -3]"
   ]
  },
  {
   "cell_type": "code",
   "execution_count": 5,
   "id": "ed828694-9536-47e9-94b3-c3eabb797a8c",
   "metadata": {},
   "outputs": [],
   "source": [
    "prior = utils.torchutils.BoxUniform(\n",
    "    low = torch.as_tensor(priors_min),\n",
    "    high = torch.as_tensor(priors_max)\n",
    ")"
   ]
  },
  {
   "cell_type": "markdown",
   "id": "1810244b-e90b-49c8-9884-5a0fe7523c45",
   "metadata": {},
   "source": [
    "### Setting up Simulator"
   ]
  },
  {
   "cell_type": "code",
   "execution_count": null,
   "id": "3a8c261c-89ef-494a-b778-e1d04f99356b",
   "metadata": {},
   "outputs": [],
   "source": [
    "global x, y, input_im, sigma_im, res, filters, spec_data_1, spec_data_2\n",
    "def simulator(params):\n",
    "    \n",
    "    params_arr = np.array(params)\n",
    "    sim_im, no_int_flag = Run(params_arr, [x, y], res, filters, input_image.shape, spec_data_1, spec_data_2, z)\n",
    "    \n",
    "    if no_int_flag:\n",
    "        return -np.inf\n",
    "    \n",
    "    sim_im_flip_0 = np.flip(sim_im, 0)\n",
    "    sim_im_flip_1 = np.flip(sim_im, 1)\n",
    "            \n",
    "    N = sim_im.shape[0] * sim_im.shape[1]\n",
    "    sigma_arr = (input_im - sim_im)\n",
    "    \n",
    "    c_sqr_0 = (1/N) * ((input_im - sim_im)**2 / (2 * sigma_im)**2)\n",
    "    c_sqr_1 = (1/N) * ((input_im - sim_im_flip_0)**2 / (2 * sigma_im)**2)\n",
    "    c_sqr_2 = (1/N) * ((input_im - sim_im_flip_1)**2 / (2 * sigma_im)**2)\n",
    "    \n",
    "    c_sqr = np.min([c_sqr_0, c_sqr_1, c_sqr_2])\n",
    "    \n",
    "    ln_like = -(c_sqr/2) + 1\n",
    "    \n",
    "    return ln_like"
   ]
  },
  {
   "cell_type": "code",
   "execution_count": null,
   "id": "e5abe8ba-c77b-424d-9258-f5d1ca3c409d",
   "metadata": {},
   "outputs": [],
   "source": []
  },
  {
   "cell_type": "code",
   "execution_count": null,
   "id": "ebe4e7a7-c699-428a-ad15-500c0c68274e",
   "metadata": {},
   "outputs": [],
   "source": []
  },
  {
   "cell_type": "markdown",
   "id": "8affaaff-0d85-497c-bedd-7c7bdbfbe318",
   "metadata": {},
   "source": [
    "### Conducting the Inference"
   ]
  },
  {
   "cell_type": "code",
   "execution_count": null,
   "id": "f84f7b6f-0827-4246-b9d9-47c1aacbfe5f",
   "metadata": {},
   "outputs": [],
   "source": []
  }
 ],
 "metadata": {
  "kernelspec": {
   "display_name": "Python 3 (ipykernel)",
   "language": "python",
   "name": "python3"
  },
  "language_info": {
   "codemirror_mode": {
    "name": "ipython",
    "version": 3
   },
   "file_extension": ".py",
   "mimetype": "text/x-python",
   "name": "python",
   "nbconvert_exporter": "python",
   "pygments_lexer": "ipython3",
   "version": "3.7.13"
  }
 },
 "nbformat": 4,
 "nbformat_minor": 5
}
